{
 "cells": [
  {
   "cell_type": "markdown",
   "metadata": {},
   "source": [
    "## 介绍\n",
    "淘宝作为国内最大电商平台之一，淘宝上有大量的买家。为了吸引大量的新买家，商家有时会在特定的日期（6.18、双11等）进行大促销。但是同时，有许多被吸引的新买家是一次性买家，而商家并不能将这批新买家转化为忠实客户。为了提高ROI，淘宝提供用户行为日志帮助分析可能可以转化为忠实客户的买家。\n",
    "数据集来自于[天池](https://tianchi.aliyun.com/dataset/dataDetail?dataId=47).\n",
    "\n",
    "\n",
    "## 目标\n",
    "分析网站各项指标（UV,PV,etc），客户群分类并给出营销策略\n",
    "\n",
    "## Table of contents\n",
    "* [Importing libraries](#lib)\n",
    "* [Read in the dataset](#read)\n",
    "* [Data cleaning](#clean)\n",
    "* [Analysis](#ana)\n",
    "* [Tags Sentimental Analysis](#nltk)"
   ]
  },
  {
   "cell_type": "markdown",
   "metadata": {},
   "source": [
    "## <a name=\"lib\"></a>Importing libraries"
   ]
  },
  {
   "cell_type": "code",
   "execution_count": 1,
   "metadata": {},
   "outputs": [],
   "source": [
    "import pandas as pd\n",
    "import numpy as np\n",
    "import pymysql\n",
    "import matplotlib.pyplot as plt\n",
    "import seaborn as sns\n",
    "import plotnine as p9\n",
    "import os\n",
    "import warnings\n",
    "warnings.filterwarnings('ignore')"
   ]
  },
  {
   "cell_type": "code",
   "execution_count": 2,
   "metadata": {},
   "outputs": [],
   "source": [
    "pd.set_option('precision', 3)\n",
    "sns.set_style(\"whitegrid\")\n",
    "plt.rcParams['font.sans-serif'] = ['SimHei']\n",
    "plt.rcParams['font.family']='sans-serif'\n",
    "plt.rcParams['axes.unicode_minus'] = False"
   ]
  },
  {
   "cell_type": "markdown",
   "metadata": {},
   "source": [
    "## <a name=\"read\"></a>Read in the dataset"
   ]
  },
  {
   "cell_type": "code",
   "execution_count": 3,
   "metadata": {},
   "outputs": [],
   "source": [
    "files_path = os.getcwd()"
   ]
  },
  {
   "cell_type": "code",
   "execution_count": 4,
   "metadata": {
    "scrolled": true
   },
   "outputs": [],
   "source": [
    "conn = pymysql.connect(host = 'localhost', user = 'root', passwd = '8625649', db = 'ub')\n",
    "df = pd.read_sql('select * from user_log_format1', conn)"
   ]
  },
  {
   "cell_type": "code",
   "execution_count": 5,
   "metadata": {},
   "outputs": [],
   "source": [
    "uinfo = pd.read_csv(files_path + '//data_format1//user_info_format1.csv')"
   ]
  },
  {
   "cell_type": "markdown",
   "metadata": {},
   "source": [
    "## <a name=\"clean\"></a> Data cleaning\n",
    "### Goals:\n",
    "- Convert features into right data types\n",
    "- Deal with NA value\n",
    "- Create possibly useful new features"
   ]
  },
  {
   "cell_type": "code",
   "execution_count": 464,
   "metadata": {
    "scrolled": false
   },
   "outputs": [
    {
     "name": "stdout",
     "output_type": "stream",
     "text": [
      "<class 'pandas.core.frame.DataFrame'>\n",
      "Int64Index: 800717 entries, 0 to 800716\n",
      "Data columns (total 10 columns):\n",
      "user_id        800717 non-null object\n",
      "item_id        800717 non-null object\n",
      "cat_id         800717 non-null object\n",
      "seller_id      800717 non-null object\n",
      "brand_id       799674 non-null object\n",
      "time_stamp     800717 non-null object\n",
      "action_type    800717 non-null object\n",
      "month          800717 non-null int64\n",
      "day_of_week    800717 non-null int64\n",
      "day            800717 non-null int64\n",
      "dtypes: int64(3), object(7)\n",
      "memory usage: 67.2+ MB\n",
      "<class 'pandas.core.frame.DataFrame'>\n",
      "RangeIndex: 424170 entries, 0 to 424169\n",
      "Data columns (total 3 columns):\n",
      "user_id      424170 non-null object\n",
      "age_range    421953 non-null float64\n",
      "gender       424170 non-null object\n",
      "dtypes: float64(1), object(2)\n",
      "memory usage: 9.7+ MB\n"
     ]
    },
    {
     "data": {
      "text/plain": [
       "(None,\n",
       " None,\n",
       "        user_id item_id cat_id seller_id brand_id time_stamp action_type  \\\n",
       " 800707  402892  633031    177       267     1181       1111       click   \n",
       " 800708  402892  908639    662      4954     3712       1111       click   \n",
       " 800709  402892  676866   1505      3760     3738       0712       click   \n",
       " 800710  402892  256559   1505      3760     3738       0712       click   \n",
       " 800711  402892  572114   1505      3760     3738       0712       click   \n",
       " 800712  402892  715126    662       416     4014       0712       click   \n",
       " 800713  402892  160265    302      4299     1012       0712       click   \n",
       " 800714  402892  356228    821       373     4743       0820       click   \n",
       " 800715  402892   74488    737       649     5891       0820       click   \n",
       " 800716  402892  578568   1095      1340     1981       0618       click   \n",
       " \n",
       "         month  day_of_week  day  \n",
       " 800707     11            6   11  \n",
       " 800708     11            6   11  \n",
       " 800709      7            3   12  \n",
       " 800710      7            3   12  \n",
       " 800711      7            3   12  \n",
       " 800712      7            3   12  \n",
       " 800713      7            3   12  \n",
       " 800714      8            0   20  \n",
       " 800715      8            0   20  \n",
       " 800716      6            0   18  )"
      ]
     },
     "execution_count": 464,
     "metadata": {},
     "output_type": "execute_result"
    }
   ],
   "source": [
    "df.info(), uinfo.info(), df.tail(10)"
   ]
  },
  {
   "cell_type": "markdown",
   "metadata": {},
   "source": [
    "- 用户年龄段: 1 for <18; 2 for [18,24]; 3 for [25,29]; 4 for [30,34]; 5 for [35,39]; 6 for [40,49]; 7 and 8 for >= 50;\n",
    "- 用户性别: 0 for female, 1 for male, 2 and NULL for unknown.\n",
    "- 因为最后一名用户没有包含双11的数据，所以drop掉"
   ]
  },
  {
   "cell_type": "code",
   "execution_count": 7,
   "metadata": {},
   "outputs": [],
   "source": [
    "uinfo['user_id'] = uinfo.user_id.apply(str)\n",
    "uinfo['gender'].replace(0, 'female', inplace = True)\n",
    "uinfo['gender'].replace(1, 'male', inplace = True)\n",
    "uinfo['gender'].replace([2], 'unknown', inplace = True)\n",
    "uinfo['gender'].fillna('unknown', inplace = True)\n",
    "\n",
    "df['action_type'].replace('0','click',inplace=True)\n",
    "df['action_type'].replace('1','cart',inplace=True)\n",
    "df['action_type'].replace('2','buy',inplace=True)\n",
    "df['action_type'].replace('3','fav',inplace=True)\n",
    "\n",
    "df['month'] = pd.to_datetime(df.time_stamp, format = '%m%d').dt.month\n",
    "df['day_of_week'] = pd.to_datetime(df.time_stamp, format = '%m%d').dt.dayofweek\n",
    "df['day'] = pd.to_datetime(df.time_stamp, format = '%m%d').dt.day\n",
    "\n",
    "\n",
    "df = df[~(df['user_id'] == '343175')]\n",
    "full_df = df.merge(uinfo, on = 'user_id', how = 'left')"
   ]
  },
  {
   "cell_type": "markdown",
   "metadata": {},
   "source": [
    "## <a name = 'ana'></a> Analysis"
   ]
  },
  {
   "cell_type": "markdown",
   "metadata": {},
   "source": [
    "### 淘宝月维度流量分析"
   ]
  },
  {
   "cell_type": "code",
   "execution_count": 8,
   "metadata": {
    "scrolled": true
   },
   "outputs": [
    {
     "data": {
      "text/html": [
       "<div>\n",
       "<style scoped>\n",
       "    .dataframe tbody tr th:only-of-type {\n",
       "        vertical-align: middle;\n",
       "    }\n",
       "\n",
       "    .dataframe tbody tr th {\n",
       "        vertical-align: top;\n",
       "    }\n",
       "\n",
       "    .dataframe thead th {\n",
       "        text-align: right;\n",
       "    }\n",
       "</style>\n",
       "<table border=\"1\" class=\"dataframe\">\n",
       "  <thead>\n",
       "    <tr style=\"text-align: right;\">\n",
       "      <th></th>\n",
       "      <th>month</th>\n",
       "      <th>pv</th>\n",
       "      <th>uv</th>\n",
       "      <th>ratio</th>\n",
       "    </tr>\n",
       "  </thead>\n",
       "  <tbody>\n",
       "    <tr>\n",
       "      <th>0</th>\n",
       "      <td>5</td>\n",
       "      <td>36412</td>\n",
       "      <td>306</td>\n",
       "      <td>118.993</td>\n",
       "    </tr>\n",
       "    <tr>\n",
       "      <th>1</th>\n",
       "      <td>6</td>\n",
       "      <td>94213</td>\n",
       "      <td>674</td>\n",
       "      <td>139.782</td>\n",
       "    </tr>\n",
       "    <tr>\n",
       "      <th>2</th>\n",
       "      <td>7</td>\n",
       "      <td>68784</td>\n",
       "      <td>567</td>\n",
       "      <td>121.312</td>\n",
       "    </tr>\n",
       "    <tr>\n",
       "      <th>3</th>\n",
       "      <td>8</td>\n",
       "      <td>66622</td>\n",
       "      <td>553</td>\n",
       "      <td>120.474</td>\n",
       "    </tr>\n",
       "    <tr>\n",
       "      <th>4</th>\n",
       "      <td>9</td>\n",
       "      <td>77991</td>\n",
       "      <td>663</td>\n",
       "      <td>117.633</td>\n",
       "    </tr>\n",
       "    <tr>\n",
       "      <th>5</th>\n",
       "      <td>10</td>\n",
       "      <td>100376</td>\n",
       "      <td>855</td>\n",
       "      <td>117.399</td>\n",
       "    </tr>\n",
       "    <tr>\n",
       "      <th>6</th>\n",
       "      <td>11</td>\n",
       "      <td>263048</td>\n",
       "      <td>1707</td>\n",
       "      <td>154.100</td>\n",
       "    </tr>\n",
       "  </tbody>\n",
       "</table>\n",
       "</div>"
      ],
      "text/plain": [
       "   month      pv    uv    ratio\n",
       "0      5   36412   306  118.993\n",
       "1      6   94213   674  139.782\n",
       "2      7   68784   567  121.312\n",
       "3      8   66622   553  120.474\n",
       "4      9   77991   663  117.633\n",
       "5     10  100376   855  117.399\n",
       "6     11  263048  1707  154.100"
      ]
     },
     "execution_count": 8,
     "metadata": {},
     "output_type": "execute_result"
    }
   ],
   "source": [
    "mpv = full_df.query('action_type == \"click\"').groupby('month')['user_id'].size().reset_index(name = 'pv')\n",
    "muv = full_df.drop_duplicates('user_id').groupby('month')['user_id'].size().reset_index(name = 'uv')\n",
    "pv_uv = pd.merge(mpv,muv)\n",
    "pv_uv['ratio'] = pv_uv.pv / pv_uv.uv\n",
    "pv_uv"
   ]
  },
  {
   "cell_type": "code",
   "execution_count": 9,
   "metadata": {},
   "outputs": [
    {
     "data": {
      "image/png": "[encoded data removed]",
      "text/plain": [
       "<Figure size 1080x720 with 3 Axes>"
      ]
     },
     "metadata": {},
     "output_type": "display_data"
    }
   ],
   "source": [
    "fig = plt.figure(figsize = (15, 10))\n",
    "ax1 = fig.add_subplot(311)\n",
    "ax2 = fig.add_subplot(312)\n",
    "ax3 = fig.add_subplot(313)\n",
    "ax1.plot(pv_uv.month, pv_uv.pv, c = 'r', linewidth = '2', label = 'monthly_pv')\n",
    "ax1.set_ylabel('PV', fontsize = 15)\n",
    "ax2.plot(pv_uv.month, pv_uv.uv, c = 'b', linewidth = '2', label = 'monthly_uv')\n",
    "ax2.set_ylabel('UV', fontsize = 15)\n",
    "ax3.plot(pv_uv.month, pv_uv.ratio, c = 'y', linewidth = '2', linestyle= 'dashed', label = 'pv_uv_ratio')\n",
    "ax3.set_ylabel('PV_UV_RATIO', fontsize = 15)\n",
    "ax3.set_xlabel('月份', fontsize = 15)\n",
    "\n",
    "fig.legend(fontsize = 15)\n",
    "plt.show()"
   ]
  },
  {
   "cell_type": "code",
   "execution_count": 484,
   "metadata": {
    "scrolled": false
   },
   "outputs": [
    {
     "data": {
      "text/html": [
       "<div>\n",
       "<style scoped>\n",
       "    .dataframe tbody tr th:only-of-type {\n",
       "        vertical-align: middle;\n",
       "    }\n",
       "\n",
       "    .dataframe tbody tr th {\n",
       "        vertical-align: top;\n",
       "    }\n",
       "\n",
       "    .dataframe thead th {\n",
       "        text-align: right;\n",
       "    }\n",
       "</style>\n",
       "<table border=\"1\" class=\"dataframe\">\n",
       "  <thead>\n",
       "    <tr style=\"text-align: right;\">\n",
       "      <th></th>\n",
       "      <th>time_stamp</th>\n",
       "      <th>click</th>\n",
       "    </tr>\n",
       "  </thead>\n",
       "  <tbody>\n",
       "    <tr>\n",
       "      <th>175</th>\n",
       "      <td>1111</td>\n",
       "      <td>137173</td>\n",
       "    </tr>\n",
       "    <tr>\n",
       "      <th>174</th>\n",
       "      <td>1110</td>\n",
       "      <td>39059</td>\n",
       "    </tr>\n",
       "    <tr>\n",
       "      <th>173</th>\n",
       "      <td>1109</td>\n",
       "      <td>13629</td>\n",
       "    </tr>\n",
       "    <tr>\n",
       "      <th>172</th>\n",
       "      <td>1108</td>\n",
       "      <td>12005</td>\n",
       "    </tr>\n",
       "    <tr>\n",
       "      <th>171</th>\n",
       "      <td>1107</td>\n",
       "      <td>11620</td>\n",
       "    </tr>\n",
       "    <tr>\n",
       "      <th>170</th>\n",
       "      <td>1106</td>\n",
       "      <td>11044</td>\n",
       "    </tr>\n",
       "    <tr>\n",
       "      <th>168</th>\n",
       "      <td>1104</td>\n",
       "      <td>9525</td>\n",
       "    </tr>\n",
       "    <tr>\n",
       "      <th>37</th>\n",
       "      <td>0626</td>\n",
       "      <td>9334</td>\n",
       "    </tr>\n",
       "    <tr>\n",
       "      <th>169</th>\n",
       "      <td>1105</td>\n",
       "      <td>9331</td>\n",
       "    </tr>\n",
       "    <tr>\n",
       "      <th>165</th>\n",
       "      <td>1101</td>\n",
       "      <td>6835</td>\n",
       "    </tr>\n",
       "    <tr>\n",
       "      <th>167</th>\n",
       "      <td>1103</td>\n",
       "      <td>6811</td>\n",
       "    </tr>\n",
       "    <tr>\n",
       "      <th>163</th>\n",
       "      <td>1030</td>\n",
       "      <td>6774</td>\n",
       "    </tr>\n",
       "    <tr>\n",
       "      <th>164</th>\n",
       "      <td>1031</td>\n",
       "      <td>6572</td>\n",
       "    </tr>\n",
       "    <tr>\n",
       "      <th>166</th>\n",
       "      <td>1102</td>\n",
       "      <td>6016</td>\n",
       "    </tr>\n",
       "    <tr>\n",
       "      <th>28</th>\n",
       "      <td>0617</td>\n",
       "      <td>5967</td>\n",
       "    </tr>\n",
       "    <tr>\n",
       "      <th>38</th>\n",
       "      <td>0627</td>\n",
       "      <td>5756</td>\n",
       "    </tr>\n",
       "    <tr>\n",
       "      <th>158</th>\n",
       "      <td>1025</td>\n",
       "      <td>4714</td>\n",
       "    </tr>\n",
       "    <tr>\n",
       "      <th>39</th>\n",
       "      <td>0628</td>\n",
       "      <td>4674</td>\n",
       "    </tr>\n",
       "    <tr>\n",
       "      <th>29</th>\n",
       "      <td>0618</td>\n",
       "      <td>4580</td>\n",
       "    </tr>\n",
       "    <tr>\n",
       "      <th>112</th>\n",
       "      <td>0909</td>\n",
       "      <td>4544</td>\n",
       "    </tr>\n",
       "  </tbody>\n",
       "</table>\n",
       "</div>"
      ],
      "text/plain": [
       "    time_stamp   click\n",
       "175       1111  137173\n",
       "174       1110   39059\n",
       "173       1109   13629\n",
       "172       1108   12005\n",
       "171       1107   11620\n",
       "170       1106   11044\n",
       "168       1104    9525\n",
       "37        0626    9334\n",
       "169       1105    9331\n",
       "165       1101    6835\n",
       "167       1103    6811\n",
       "163       1030    6774\n",
       "164       1031    6572\n",
       "166       1102    6016\n",
       "28        0617    5967\n",
       "38        0627    5756\n",
       "158       1025    4714\n",
       "39        0628    4674\n",
       "29        0618    4580\n",
       "112       0909    4544"
      ]
     },
     "execution_count": 484,
     "metadata": {},
     "output_type": "execute_result"
    }
   ],
   "source": [
    "full_df.query('action_type == \"click\"').groupby(['time_stamp'])['user_id'].size().reset_index(name = 'click').sort_values('click',ascending = False).head(20)"
   ]
  },
  {
   "cell_type": "markdown",
   "metadata": {},
   "source": [
    "6月份和11月份的PV_UV比例最高，表示6月和11月份的用户活跃度高，每个用户的点击网页次数相对其他月份多得多。同时可以看到点击次数最高的前20个日期大部分都在11月份以及10月末，6月18号前后的日期点击次数也有优秀表现。"
   ]
  },
  {
   "cell_type": "markdown",
   "metadata": {},
   "source": [
    "### 转化率分析"
   ]
  },
  {
   "cell_type": "code",
   "execution_count": 485,
   "metadata": {
    "scrolled": true
   },
   "outputs": [],
   "source": [
    "cart_fav = full_df.query('action_type == \"cart\" or action_type == \"fav\"').groupby('month')['user_id'].size().reset_index(name = 'cart&fav')\n",
    "buy = full_df.query('action_type == \"buy\"').groupby('month')['user_id'].size().reset_index(name = 'buy') \n",
    "action_df = mpv.merge(pd.merge(cart_fav, buy)).rename(columns = {'pv' : 'click'})\n",
    "action_df['cf/click'] = action_df['cart&fav'] / action_df['click']\n",
    "action_df['buy/click'] = action_df.buy / action_df['click']"
   ]
  },
  {
   "cell_type": "code",
   "execution_count": 486,
   "metadata": {},
   "outputs": [
    {
     "data": {
      "text/html": [
       "<div>\n",
       "<style scoped>\n",
       "    .dataframe tbody tr th:only-of-type {\n",
       "        vertical-align: middle;\n",
       "    }\n",
       "\n",
       "    .dataframe tbody tr th {\n",
       "        vertical-align: top;\n",
       "    }\n",
       "\n",
       "    .dataframe thead th {\n",
       "        text-align: right;\n",
       "    }\n",
       "</style>\n",
       "<table border=\"1\" class=\"dataframe\">\n",
       "  <thead>\n",
       "    <tr style=\"text-align: right;\">\n",
       "      <th></th>\n",
       "      <th>month</th>\n",
       "      <th>click</th>\n",
       "      <th>cart&amp;fav</th>\n",
       "      <th>buy</th>\n",
       "      <th>cf/click</th>\n",
       "      <th>buy/click</th>\n",
       "    </tr>\n",
       "  </thead>\n",
       "  <tbody>\n",
       "    <tr>\n",
       "      <th>0</th>\n",
       "      <td>5</td>\n",
       "      <td>36412</td>\n",
       "      <td>3226</td>\n",
       "      <td>4409</td>\n",
       "      <td>0.089</td>\n",
       "      <td>0.121</td>\n",
       "    </tr>\n",
       "    <tr>\n",
       "      <th>1</th>\n",
       "      <td>6</td>\n",
       "      <td>94213</td>\n",
       "      <td>4734</td>\n",
       "      <td>5902</td>\n",
       "      <td>0.050</td>\n",
       "      <td>0.063</td>\n",
       "    </tr>\n",
       "    <tr>\n",
       "      <th>2</th>\n",
       "      <td>7</td>\n",
       "      <td>68784</td>\n",
       "      <td>3426</td>\n",
       "      <td>5350</td>\n",
       "      <td>0.050</td>\n",
       "      <td>0.078</td>\n",
       "    </tr>\n",
       "    <tr>\n",
       "      <th>3</th>\n",
       "      <td>8</td>\n",
       "      <td>66622</td>\n",
       "      <td>3864</td>\n",
       "      <td>4900</td>\n",
       "      <td>0.058</td>\n",
       "      <td>0.074</td>\n",
       "    </tr>\n",
       "    <tr>\n",
       "      <th>4</th>\n",
       "      <td>9</td>\n",
       "      <td>77991</td>\n",
       "      <td>4975</td>\n",
       "      <td>5702</td>\n",
       "      <td>0.064</td>\n",
       "      <td>0.073</td>\n",
       "    </tr>\n",
       "    <tr>\n",
       "      <th>5</th>\n",
       "      <td>10</td>\n",
       "      <td>100376</td>\n",
       "      <td>7862</td>\n",
       "      <td>6617</td>\n",
       "      <td>0.078</td>\n",
       "      <td>0.066</td>\n",
       "    </tr>\n",
       "    <tr>\n",
       "      <th>6</th>\n",
       "      <td>11</td>\n",
       "      <td>263048</td>\n",
       "      <td>11442</td>\n",
       "      <td>20862</td>\n",
       "      <td>0.043</td>\n",
       "      <td>0.079</td>\n",
       "    </tr>\n",
       "  </tbody>\n",
       "</table>\n",
       "</div>"
      ],
      "text/plain": [
       "   month   click  cart&fav    buy  cf/click  buy/click\n",
       "0      5   36412      3226   4409     0.089      0.121\n",
       "1      6   94213      4734   5902     0.050      0.063\n",
       "2      7   68784      3426   5350     0.050      0.078\n",
       "3      8   66622      3864   4900     0.058      0.074\n",
       "4      9   77991      4975   5702     0.064      0.073\n",
       "5     10  100376      7862   6617     0.078      0.066\n",
       "6     11  263048     11442  20862     0.043      0.079"
      ]
     },
     "execution_count": 486,
     "metadata": {},
     "output_type": "execute_result"
    },
    {
     "data": {
      "image/png": "[encoded data removed]",
      "text/plain": [
       "<Figure size 864x576 with 2 Axes>"
      ]
     },
     "metadata": {},
     "output_type": "display_data"
    }
   ],
   "source": [
    "fig = plt.figure(figsize = (12,8))\n",
    "\n",
    "x = action_df.month\n",
    "y1 = action_df.click\n",
    "y2 = action_df['cf/click']\n",
    "y3 = action_df['buy/click']\n",
    "\n",
    "ax1 = fig.add_subplot(111)\n",
    "ax1.bar(x, y1, alpha = 0.5)\n",
    "ax1.set_xlabel('月份', fontsize = 20)\n",
    "\n",
    "ax2 = ax1.twinx()\n",
    "ax2.plot(x, y2, linewidth = 2, c = 'r', marker = 'o', linestyle = 'dashed', label = '购物车/收藏转化率')\n",
    "ax2.set_ylabel('转化率', fontsize = 20)\n",
    "plt.plot(x, y3, linewidth = 2, c = 'g', marker = '*', label = '购买转化率')\n",
    "\n",
    "for x,y,z in zip(x, y2, y3):\n",
    "    plt.annotate(round(y, 3), xy = (x,y), xytext = (x,y + 0.001))\n",
    "    plt.annotate(round(z, 3), xy = (x,z), xytext = (x,z + 0.001))\n",
    "\n",
    "plt.legend(loc = 9,fontsize = 15)\n",
    "plt.grid(False)\n",
    "\n",
    "action_df"
   ]
  },
  {
   "cell_type": "markdown",
   "metadata": {},
   "source": [
    "从7月份到10月份，购买率逐渐下降，收藏和购物车转化率上升。消费者是否从7月份开始就准备双11？和上面的活跃度做对比"
   ]
  },
  {
   "cell_type": "code",
   "execution_count": 162,
   "metadata": {
    "scrolled": false
   },
   "outputs": [
    {
     "name": "stdout",
     "output_type": "stream",
     "text": [
      "双11当天销量占总销量的0.35629489040229245\n"
     ]
    }
   ],
   "source": [
    "day_sales = full_df.query('action_type == \"buy\"').groupby('time_stamp').size().reset_index(name = 'count').sort_values('count', ascending = False)\n",
    "print(\"双11当天销量占总销量的{}\".format(day_sales['count'].tolist()[0] / sum(day_sales['count'].tolist())))"
   ]
  },
  {
   "cell_type": "code",
   "execution_count": 78,
   "metadata": {},
   "outputs": [
    {
     "data": {
      "image/png": "[encoded data removed]",
      "text/plain": [
       "<Figure size 1080x576 with 1 Axes>"
      ]
     },
     "metadata": {},
     "output_type": "display_data"
    }
   ],
   "source": [
    "data = full_df.drop_duplicates('user_id', keep = 'last')\n",
    "fig = plt.figure(figsize = (15,8))\n",
    "sns.countplot(x = 'gender', hue = 'age_range', data = data, palette = 'Set3')\n",
    "plt.title('用户年龄/性别分布情况')\n",
    "plt.show()"
   ]
  },
  {
   "cell_type": "markdown",
   "metadata": {},
   "source": [
    "25到39岁为用户的主要年龄段，又以30到34岁年龄段为最多人群。女性用户比男性用户多近一倍。"
   ]
  },
  {
   "cell_type": "code",
   "execution_count": 77,
   "metadata": {
    "scrolled": false
   },
   "outputs": [
    {
     "data": {
      "image/png": "[encoded data removed]",
      "text/plain": [
       "<Figure size 1080x576 with 1 Axes>"
      ]
     },
     "metadata": {},
     "output_type": "display_data"
    }
   ],
   "source": [
    "fig = plt.figure(figsize = (15,8))\n",
    "sns.countplot(x = 'age_range', hue = 'gender', data = full_df.query('action_type == \"buy\"'), palette = 'Set3')\n",
    "plt.title('购买用户年龄/性别分布')\n",
    "plt.show()"
   ]
  },
  {
   "cell_type": "markdown",
   "metadata": {},
   "source": [
    "30到39岁为主要消费人群，同时其中女性占大多数。"
   ]
  },
  {
   "cell_type": "code",
   "execution_count": 99,
   "metadata": {},
   "outputs": [],
   "source": [
    "cdf = full_df.query('action_type == \"click\"')\n",
    "bdf = full_df.query('action_type == \"buy\"')"
   ]
  },
  {
   "cell_type": "code",
   "execution_count": 102,
   "metadata": {},
   "outputs": [],
   "source": [
    "def view_buy(col):\n",
    "    view = cdf.groupby(col + '_id').size().reset_index(name = 'top_view').sort_values('top_view', ascending = False).head(5)\n",
    "    buy = bdf.groupby(col + '_id').size().reset_index(name = 'top_buy').sort_values('top_buy', ascending = False).head(5)\n",
    "    return view, buy"
   ]
  },
  {
   "cell_type": "code",
   "execution_count": 107,
   "metadata": {},
   "outputs": [
    {
     "data": {
      "text/html": [
       "<div>\n",
       "<style scoped>\n",
       "    .dataframe tbody tr th:only-of-type {\n",
       "        vertical-align: middle;\n",
       "    }\n",
       "\n",
       "    .dataframe tbody tr th {\n",
       "        vertical-align: top;\n",
       "    }\n",
       "\n",
       "    .dataframe thead th {\n",
       "        text-align: right;\n",
       "    }\n",
       "</style>\n",
       "<table border=\"1\" class=\"dataframe\">\n",
       "  <thead>\n",
       "    <tr style=\"text-align: right;\">\n",
       "      <th></th>\n",
       "      <th>cat_id</th>\n",
       "      <th>top_view</th>\n",
       "    </tr>\n",
       "  </thead>\n",
       "  <tbody>\n",
       "    <tr>\n",
       "      <th>924</th>\n",
       "      <td>662</td>\n",
       "      <td>49071</td>\n",
       "    </tr>\n",
       "    <tr>\n",
       "      <th>271</th>\n",
       "      <td>1349</td>\n",
       "      <td>27808</td>\n",
       "    </tr>\n",
       "    <tr>\n",
       "      <th>989</th>\n",
       "      <td>737</td>\n",
       "      <td>22229</td>\n",
       "    </tr>\n",
       "    <tr>\n",
       "      <th>873</th>\n",
       "      <td>602</td>\n",
       "      <td>20509</td>\n",
       "    </tr>\n",
       "    <tr>\n",
       "      <th>396</th>\n",
       "      <td>1505</td>\n",
       "      <td>18736</td>\n",
       "    </tr>\n",
       "  </tbody>\n",
       "</table>\n",
       "</div>"
      ],
      "text/plain": [
       "    cat_id  top_view\n",
       "924    662     49071\n",
       "271   1349     27808\n",
       "989    737     22229\n",
       "873    602     20509\n",
       "396   1505     18736"
      ]
     },
     "execution_count": 107,
     "metadata": {},
     "output_type": "execute_result"
    }
   ],
   "source": [
    "cat_view, cat_buy = view_buy('cat')\n",
    "cat_view"
   ]
  },
  {
   "cell_type": "code",
   "execution_count": 101,
   "metadata": {},
   "outputs": [
    {
     "data": {
      "text/html": [
       "<div>\n",
       "<style scoped>\n",
       "    .dataframe tbody tr th:only-of-type {\n",
       "        vertical-align: middle;\n",
       "    }\n",
       "\n",
       "    .dataframe tbody tr th {\n",
       "        vertical-align: top;\n",
       "    }\n",
       "\n",
       "    .dataframe thead th {\n",
       "        text-align: right;\n",
       "    }\n",
       "</style>\n",
       "<table border=\"1\" class=\"dataframe\">\n",
       "  <thead>\n",
       "    <tr style=\"text-align: right;\">\n",
       "      <th></th>\n",
       "      <th>cat_id</th>\n",
       "      <th>top_buy</th>\n",
       "    </tr>\n",
       "  </thead>\n",
       "  <tbody>\n",
       "    <tr>\n",
       "      <th>147</th>\n",
       "      <td>1213</td>\n",
       "      <td>1782</td>\n",
       "    </tr>\n",
       "    <tr>\n",
       "      <th>489</th>\n",
       "      <td>267</td>\n",
       "      <td>1542</td>\n",
       "    </tr>\n",
       "    <tr>\n",
       "      <th>697</th>\n",
       "      <td>602</td>\n",
       "      <td>1367</td>\n",
       "    </tr>\n",
       "    <tr>\n",
       "      <th>259</th>\n",
       "      <td>1401</td>\n",
       "      <td>1298</td>\n",
       "    </tr>\n",
       "    <tr>\n",
       "      <th>739</th>\n",
       "      <td>662</td>\n",
       "      <td>1249</td>\n",
       "    </tr>\n",
       "  </tbody>\n",
       "</table>\n",
       "</div>"
      ],
      "text/plain": [
       "    cat_id  top_buy\n",
       "147   1213     1782\n",
       "489    267     1542\n",
       "697    602     1367\n",
       "259   1401     1298\n",
       "739    662     1249"
      ]
     },
     "execution_count": 101,
     "metadata": {},
     "output_type": "execute_result"
    }
   ],
   "source": [
    "cat_buy"
   ]
  },
  {
   "cell_type": "markdown",
   "metadata": {},
   "source": [
    "被浏览次数最多的类目是类目924，但是前五被购买次数最多得类目里面并没有类目924"
   ]
  },
  {
   "cell_type": "code",
   "execution_count": 114,
   "metadata": {},
   "outputs": [
    {
     "data": {
      "text/html": [
       "<div>\n",
       "<style scoped>\n",
       "    .dataframe tbody tr th:only-of-type {\n",
       "        vertical-align: middle;\n",
       "    }\n",
       "\n",
       "    .dataframe tbody tr th {\n",
       "        vertical-align: top;\n",
       "    }\n",
       "\n",
       "    .dataframe thead th {\n",
       "        text-align: right;\n",
       "    }\n",
       "</style>\n",
       "<table border=\"1\" class=\"dataframe\">\n",
       "  <thead>\n",
       "    <tr style=\"text-align: right;\">\n",
       "      <th></th>\n",
       "      <th>item_id</th>\n",
       "      <th>top_view</th>\n",
       "    </tr>\n",
       "  </thead>\n",
       "  <tbody>\n",
       "    <tr>\n",
       "      <th>134473</th>\n",
       "      <td>67897</td>\n",
       "      <td>7837</td>\n",
       "    </tr>\n",
       "    <tr>\n",
       "      <th>126063</th>\n",
       "      <td>636863</td>\n",
       "      <td>3666</td>\n",
       "    </tr>\n",
       "    <tr>\n",
       "      <th>155045</th>\n",
       "      <td>783997</td>\n",
       "      <td>3062</td>\n",
       "    </tr>\n",
       "    <tr>\n",
       "      <th>124518</th>\n",
       "      <td>628774</td>\n",
       "      <td>1164</td>\n",
       "    </tr>\n",
       "    <tr>\n",
       "      <th>4871</th>\n",
       "      <td>1024557</td>\n",
       "      <td>1005</td>\n",
       "    </tr>\n",
       "  </tbody>\n",
       "</table>\n",
       "</div>"
      ],
      "text/plain": [
       "        item_id  top_view\n",
       "134473    67897      7837\n",
       "126063   636863      3666\n",
       "155045   783997      3062\n",
       "124518   628774      1164\n",
       "4871    1024557      1005"
      ]
     },
     "execution_count": 114,
     "metadata": {},
     "output_type": "execute_result"
    }
   ],
   "source": [
    "item_view, item_buy = view_buy('item')\n",
    "item_view"
   ]
  },
  {
   "cell_type": "code",
   "execution_count": 115,
   "metadata": {},
   "outputs": [
    {
     "data": {
      "text/html": [
       "<div>\n",
       "<style scoped>\n",
       "    .dataframe tbody tr th:only-of-type {\n",
       "        vertical-align: middle;\n",
       "    }\n",
       "\n",
       "    .dataframe tbody tr th {\n",
       "        vertical-align: top;\n",
       "    }\n",
       "\n",
       "    .dataframe thead th {\n",
       "        text-align: right;\n",
       "    }\n",
       "</style>\n",
       "<table border=\"1\" class=\"dataframe\">\n",
       "  <thead>\n",
       "    <tr style=\"text-align: right;\">\n",
       "      <th></th>\n",
       "      <th>item_id</th>\n",
       "      <th>top_buy</th>\n",
       "    </tr>\n",
       "  </thead>\n",
       "  <tbody>\n",
       "    <tr>\n",
       "      <th>20232</th>\n",
       "      <td>631714</td>\n",
       "      <td>78</td>\n",
       "    </tr>\n",
       "    <tr>\n",
       "      <th>976</th>\n",
       "      <td>1029992</td>\n",
       "      <td>75</td>\n",
       "    </tr>\n",
       "    <tr>\n",
       "      <th>6266</th>\n",
       "      <td>195714</td>\n",
       "      <td>68</td>\n",
       "    </tr>\n",
       "    <tr>\n",
       "      <th>18883</th>\n",
       "      <td>590204</td>\n",
       "      <td>49</td>\n",
       "    </tr>\n",
       "    <tr>\n",
       "      <th>23025</th>\n",
       "      <td>718528</td>\n",
       "      <td>47</td>\n",
       "    </tr>\n",
       "  </tbody>\n",
       "</table>\n",
       "</div>"
      ],
      "text/plain": [
       "       item_id  top_buy\n",
       "20232   631714       78\n",
       "976    1029992       75\n",
       "6266    195714       68\n",
       "18883   590204       49\n",
       "23025   718528       47"
      ]
     },
     "execution_count": 115,
     "metadata": {},
     "output_type": "execute_result"
    }
   ],
   "source": [
    "item_buy"
   ]
  },
  {
   "cell_type": "markdown",
   "metadata": {},
   "source": [
    "商品20232，976, 6266销量最为突出，但是同样的，这些商品的浏览量并没有在前五里面。思考背后的原因"
   ]
  },
  {
   "cell_type": "markdown",
   "metadata": {},
   "source": [
    "## Kmeans 用户分类"
   ]
  },
  {
   "cell_type": "code",
   "execution_count": 186,
   "metadata": {},
   "outputs": [],
   "source": [
    "from sklearn.cluster import KMeans\n",
    "from sklearn import preprocessing"
   ]
  },
  {
   "cell_type": "code",
   "execution_count": 277,
   "metadata": {
    "scrolled": true
   },
   "outputs": [
    {
     "data": {
      "text/html": [
       "<div>\n",
       "<style scoped>\n",
       "    .dataframe tbody tr th:only-of-type {\n",
       "        vertical-align: middle;\n",
       "    }\n",
       "\n",
       "    .dataframe tbody tr th {\n",
       "        vertical-align: top;\n",
       "    }\n",
       "\n",
       "    .dataframe thead th {\n",
       "        text-align: right;\n",
       "    }\n",
       "</style>\n",
       "<table border=\"1\" class=\"dataframe\">\n",
       "  <thead>\n",
       "    <tr style=\"text-align: right;\">\n",
       "      <th></th>\n",
       "      <th>days</th>\n",
       "      <th>click</th>\n",
       "      <th>cart/fav</th>\n",
       "      <th>buy</th>\n",
       "    </tr>\n",
       "  </thead>\n",
       "  <tbody>\n",
       "    <tr>\n",
       "      <th>count</th>\n",
       "      <td>5325.000</td>\n",
       "      <td>5325.000</td>\n",
       "      <td>5325.000</td>\n",
       "      <td>5325.000</td>\n",
       "    </tr>\n",
       "    <tr>\n",
       "      <th>mean</th>\n",
       "      <td>6.320</td>\n",
       "      <td>132.854</td>\n",
       "      <td>7.423</td>\n",
       "      <td>10.092</td>\n",
       "    </tr>\n",
       "    <tr>\n",
       "      <th>std</th>\n",
       "      <td>1.169</td>\n",
       "      <td>183.701</td>\n",
       "      <td>16.873</td>\n",
       "      <td>9.480</td>\n",
       "    </tr>\n",
       "    <tr>\n",
       "      <th>min</th>\n",
       "      <td>1.000</td>\n",
       "      <td>0.000</td>\n",
       "      <td>0.000</td>\n",
       "      <td>1.000</td>\n",
       "    </tr>\n",
       "    <tr>\n",
       "      <th>25%</th>\n",
       "      <td>6.000</td>\n",
       "      <td>37.000</td>\n",
       "      <td>0.000</td>\n",
       "      <td>4.000</td>\n",
       "    </tr>\n",
       "    <tr>\n",
       "      <th>50%</th>\n",
       "      <td>7.000</td>\n",
       "      <td>77.000</td>\n",
       "      <td>1.000</td>\n",
       "      <td>7.000</td>\n",
       "    </tr>\n",
       "    <tr>\n",
       "      <th>75%</th>\n",
       "      <td>7.000</td>\n",
       "      <td>156.000</td>\n",
       "      <td>7.000</td>\n",
       "      <td>13.000</td>\n",
       "    </tr>\n",
       "    <tr>\n",
       "      <th>max</th>\n",
       "      <td>7.000</td>\n",
       "      <td>2967.000</td>\n",
       "      <td>289.000</td>\n",
       "      <td>152.000</td>\n",
       "    </tr>\n",
       "  </tbody>\n",
       "</table>\n",
       "</div>"
      ],
      "text/plain": [
       "           days     click  cart/fav       buy\n",
       "count  5325.000  5325.000  5325.000  5325.000\n",
       "mean      6.320   132.854     7.423    10.092\n",
       "std       1.169   183.701    16.873     9.480\n",
       "min       1.000     0.000     0.000     1.000\n",
       "25%       6.000    37.000     0.000     4.000\n",
       "50%       7.000    77.000     1.000     7.000\n",
       "75%       7.000   156.000     7.000    13.000\n",
       "max       7.000  2967.000   289.000   152.000"
      ]
     },
     "execution_count": 277,
     "metadata": {},
     "output_type": "execute_result"
    }
   ],
   "source": [
    "full_df['days'] = 12 - full_df.month\n",
    "full_df = full_df.sort_values('days')\n",
    "user_days = full_df.drop_duplicates('user_id', keep = 'last')[['user_id','days']]\n",
    "user_click = full_df.query('action_type == \"click\"').groupby('user_id').size().reset_index(name = 'click')\n",
    "temp1 = pd.merge(user_days, user_click, how = 'left').fillna(0)\n",
    "user_cf = full_df.query('action_type == \"cart\" or action_type == \"fav\"').groupby('user_id').size().reset_index(name = 'cart/fav')\n",
    "temp2 = pd.merge(temp1, user_cf, how = 'left').fillna(0)\n",
    "user_buy = full_df.query('action_type == \"buy\"').groupby('user_id').size().reset_index(name = 'buy')\n",
    "user_behave = pd.merge(temp2, user_buy, how = 'left').fillna(0)\n",
    "\n",
    "user_behave.describe()"
   ]
  },
  {
   "cell_type": "code",
   "execution_count": 447,
   "metadata": {
    "scrolled": true
   },
   "outputs": [
    {
     "data": {
      "text/plain": [
       "(   zclick  zcart/fav   zbuy  zdays\n",
       " 0  -0.696     -0.321 -0.854 -4.551\n",
       " 1  -0.701     -0.440 -0.959 -4.551\n",
       " 2  -0.326     -0.203 -0.537 -4.551,\n",
       "           zclick  zcart/fav       zbuy      zdays\n",
       " count  5.325e+03  5.325e+03  5.325e+03  5.325e+03\n",
       " mean   4.679e-16 -1.282e-14 -6.579e-16  7.988e-15\n",
       " std    1.000e+00  1.000e+00  1.000e+00  1.000e+00\n",
       " min   -7.233e-01 -4.400e-01 -9.592e-01 -4.551e+00\n",
       " 25%   -5.218e-01 -4.400e-01 -6.427e-01 -2.736e-01\n",
       " 50%   -3.041e-01 -3.807e-01 -3.262e-01  5.819e-01\n",
       " 75%    1.260e-01 -2.509e-02  3.067e-01  5.819e-01\n",
       " max    1.543e+01  1.669e+01  1.497e+01  5.819e-01)"
      ]
     },
     "execution_count": 447,
     "metadata": {},
     "output_type": "execute_result"
    }
   ],
   "source": [
    "user_behave['zclick'] = preprocessing.StandardScaler().fit_transform(user_behave[['click']])\n",
    "user_behave['zcart/fav'] = preprocessing.StandardScaler().fit_transform(user_behave[['cart/fav']])\n",
    "user_behave['zbuy'] = preprocessing.StandardScaler().fit_transform(user_behave[['buy']])\n",
    "user_behave['zdays'] = preprocessing.StandardScaler().fit_transform(user_behave[['days']])\n",
    "zuser_behave = user_behave[['zclick','zcart/fav', 'zbuy', 'zdays']]\n",
    "zuser_behave.head(3), zuser_behave.describe()"
   ]
  },
  {
   "cell_type": "code",
   "execution_count": 488,
   "metadata": {
    "scrolled": true
   },
   "outputs": [
    {
     "data": {
      "text/plain": [
       "KMeans(algorithm='auto', copy_x=True, init='k-means++', max_iter=3000,\n",
       "    n_clusters=4, n_init=10, n_jobs=4, precompute_distances='auto',\n",
       "    random_state=None, tol=0.0001, verbose=0)"
      ]
     },
     "execution_count": 488,
     "metadata": {},
     "output_type": "execute_result"
    }
   ],
   "source": [
    "model = KMeans(n_clusters = 4, n_jobs = 4, max_iter = 3000)\n",
    "model.fit(user_behave[['zclick','zcart/fav', 'zbuy', 'zdays']])"
   ]
  },
  {
   "cell_type": "code",
   "execution_count": 496,
   "metadata": {
    "scrolled": false
   },
   "outputs": [
    {
     "data": {
      "text/plain": [
       "0    3338\n",
       "3    1100\n",
       "2     748\n",
       "1     139\n",
       "dtype: int64"
      ]
     },
     "execution_count": 496,
     "metadata": {},
     "output_type": "execute_result"
    },
    {
     "data": {
      "image/png": "[encoded data removed]",
      "text/plain": [
       "<Figure size 432x288 with 1 Axes>"
      ]
     },
     "metadata": {},
     "output_type": "display_data"
    }
   ],
   "source": [
    "clusters = pd.concat([user_behave[['click','cart/fav', 'buy', 'days']], pd.Series(model.labels_)], axis = 1).rename(columns = {0:'label'}).groupby('label').mean()\n",
    "clusters['buy'] = clusters.buy/5\n",
    "clusters['click'] = clusters.click/50\n",
    "clusters['cart/fav'] = clusters['cart/fav']/10\n",
    "clusters.plot.bar()\n",
    "pd.Series(model.labels_).value_counts()"
   ]
  },
  {
   "cell_type": "markdown",
   "metadata": {},
   "source": [
    "5325名用户被分为了四类：\n",
    "第一类：分类最多的用户，这类用户活跃月数多，浏览商品数少，但是浏览购买率较高。可以提高他们对淘宝的粘性，增加浏览次数\n",
    "第二类：这类用户浏览商品数多，活跃月数多，同时购买数量大，这类客户是忠实客户\n",
    "第三类：活跃月数最少，但是浏览购买率较高，这类用户活跃低，但是购买时目的性强\n",
    "第四类：这类用户活跃月数多，浏览商品数量一般，但是浏览购买率较高。"
   ]
  }
 ],
 "metadata": {
  "kernelspec": {
   "display_name": "Python 3",
   "language": "python",
   "name": "python3"
  },
  "language_info": {
   "codemirror_mode": {
    "name": "ipython",
    "version": 3
   },
   "file_extension": ".py",
   "mimetype": "text/x-python",
   "name": "python",
   "nbconvert_exporter": "python",
   "pygments_lexer": "ipython3",
   "version": "3.7.1"
  }
 },
 "nbformat": 4,
 "nbformat_minor": 2
}
